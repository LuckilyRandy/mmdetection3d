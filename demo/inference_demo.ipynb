{
 "cells": [
  {
   "cell_type": "code",
   "execution_count": 31,
   "metadata": {
    "pycharm": {
     "is_executing": false
    }
   },
   "outputs": [],
   "source": [
    "from mmdet3d.apis import inference_detector, init_model\n",
    "from mmdet3d.registry import VISUALIZERS\n",
    "from mmdet3d.utils import register_all_modules"
   ]
  },
  {
   "cell_type": "code",
   "execution_count": 32,
   "metadata": {},
   "outputs": [],
   "source": [
    "# register all modules in mmdet3d into the registries\n",
    "register_all_modules()"
   ]
  },
  {
   "cell_type": "code",
   "execution_count": 33,
   "metadata": {
    "pycharm": {
     "is_executing": false
    }
   },
   "outputs": [],
   "source": [
    "config_file = '../configs/second/second_hv_secfpn_8xb6-80e_kitti-3d-car.py'\n",
    "# download the checkpoint from model zoo and put it in `checkpoints/`\n",
    "checkpoint_file = '../checkpoints/second_hv_secfpn_8xb6-80e_kitti-3d-car-75d9305e.pth'"
   ]
  },
  {
   "cell_type": "code",
   "execution_count": 34,
   "metadata": {},
   "outputs": [
    {
     "name": "stdout",
     "output_type": "stream",
     "text": [
      "Loads checkpoint by local backend from path: ../checkpoints/second_hv_secfpn_8xb6-80e_kitti-3d-car-75d9305e.pth\n",
      "The model and loaded state dict do not match exactly\n",
      "\n",
      "size mismatch for middle_encoder.conv_input.0.weight: copying a param with shape torch.Size([16, 3, 3, 3, 4]) from checkpoint, the shape in current model is torch.Size([3, 3, 3, 4, 16]).\n",
      "size mismatch for middle_encoder.encoder_layers.encoder_layer1.0.0.weight: copying a param with shape torch.Size([16, 3, 3, 3, 16]) from checkpoint, the shape in current model is torch.Size([3, 3, 3, 16, 16]).\n",
      "size mismatch for middle_encoder.encoder_layers.encoder_layer2.0.0.weight: copying a param with shape torch.Size([32, 3, 3, 3, 16]) from checkpoint, the shape in current model is torch.Size([3, 3, 3, 16, 32]).\n",
      "size mismatch for middle_encoder.encoder_layers.encoder_layer2.1.0.weight: copying a param with shape torch.Size([32, 3, 3, 3, 32]) from checkpoint, the shape in current model is torch.Size([3, 3, 3, 32, 32]).\n",
      "size mismatch for middle_encoder.encoder_layers.encoder_layer2.2.0.weight: copying a param with shape torch.Size([32, 3, 3, 3, 32]) from checkpoint, the shape in current model is torch.Size([3, 3, 3, 32, 32]).\n",
      "size mismatch for middle_encoder.encoder_layers.encoder_layer3.0.0.weight: copying a param with shape torch.Size([64, 3, 3, 3, 32]) from checkpoint, the shape in current model is torch.Size([3, 3, 3, 32, 64]).\n",
      "size mismatch for middle_encoder.encoder_layers.encoder_layer3.1.0.weight: copying a param with shape torch.Size([64, 3, 3, 3, 64]) from checkpoint, the shape in current model is torch.Size([3, 3, 3, 64, 64]).\n",
      "size mismatch for middle_encoder.encoder_layers.encoder_layer3.2.0.weight: copying a param with shape torch.Size([64, 3, 3, 3, 64]) from checkpoint, the shape in current model is torch.Size([3, 3, 3, 64, 64]).\n",
      "size mismatch for middle_encoder.encoder_layers.encoder_layer4.0.0.weight: copying a param with shape torch.Size([64, 3, 3, 3, 64]) from checkpoint, the shape in current model is torch.Size([3, 3, 3, 64, 64]).\n",
      "size mismatch for middle_encoder.encoder_layers.encoder_layer4.1.0.weight: copying a param with shape torch.Size([64, 3, 3, 3, 64]) from checkpoint, the shape in current model is torch.Size([3, 3, 3, 64, 64]).\n",
      "size mismatch for middle_encoder.encoder_layers.encoder_layer4.2.0.weight: copying a param with shape torch.Size([64, 3, 3, 3, 64]) from checkpoint, the shape in current model is torch.Size([3, 3, 3, 64, 64]).\n",
      "size mismatch for middle_encoder.conv_out.0.weight: copying a param with shape torch.Size([128, 3, 1, 1, 64]) from checkpoint, the shape in current model is torch.Size([3, 1, 1, 64, 128]).\n"
     ]
    }
   ],
   "source": [
    "# build the model from a config file and a checkpoint file\n",
    "model = init_model(config_file, checkpoint_file, device='cuda:0')"
   ]
  },
  {
   "cell_type": "code",
   "execution_count": 35,
   "metadata": {
    "pycharm": {
     "is_executing": false
    }
   },
   "outputs": [],
   "source": [
    "# init visualizer\n",
    "visualizer = VISUALIZERS.build(model.cfg.visualizer)\n",
    "visualizer.dataset_meta = model.dataset_meta"
   ]
  },
  {
   "cell_type": "code",
   "execution_count": 36,
   "metadata": {
    "pycharm": {
     "is_executing": false
    }
   },
   "outputs": [],
   "source": [
    "# test a single sample\n",
    "pcd = './data/kitti/000008.bin'\n",
    "result, data = inference_detector(model, pcd)\n",
    "points = data['inputs']['points']\n",
    "data_input = dict(points=points)"
   ]
  },
  {
   "cell_type": "code",
   "execution_count": 37,
   "metadata": {
    "pycharm": {
     "is_executing": false
    }
   },
   "outputs": [],
   "source": [
    "# show the results\n",
    "out_dir = './'\n",
    "visualizer.add_datasample(\n",
    "    'result',\n",
    "    data_input,\n",
    "    data_sample=result,\n",
    "    draw_gt=False,\n",
    "    show=True,\n",
    "    wait_time=0,\n",
    "    out_file=out_dir,\n",
    "    vis_task='lidar_det')"
   ]
  }
 ],
 "metadata": {
  "interpreter": {
   "hash": "a0c343fece975dd89087e8c2194dd4d3db28d7000f1b32ed9ed9d584dd54dbbe"
  },
  "kernelspec": {
   "display_name": "Python 3.7.6 64-bit ('torch1.7-cu10.1': conda)",
   "name": "python3"
  },
  "language_info": {
   "codemirror_mode": {
    "name": "ipython",
    "version": 3
   },
   "file_extension": ".py",
   "mimetype": "text/x-python",
   "name": "python",
   "nbconvert_exporter": "python",
   "pygments_lexer": "ipython3",
   "version": "3.9.17"
  },
  "pycharm": {
   "stem_cell": {
    "cell_type": "raw",
    "metadata": {
     "collapsed": false
    },
    "source": []
   }
  }
 },
 "nbformat": 4,
 "nbformat_minor": 4
}
